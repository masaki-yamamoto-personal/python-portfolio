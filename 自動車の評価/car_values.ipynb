{
 "cells": [
  {
   "cell_type": "markdown",
   "metadata": {},
   "source": [
    "## **自動車の評価**\n",
    "##### _自動車の価値を推定しよう_\n"
   ]
  },
  {
   "cell_type": "code",
   "execution_count": null,
   "metadata": {},
   "outputs": [],
   "source": [
    "import pandas as pd\n",
    "import numpy as np\n",
    "import matplotlib.pyplot as plt\n",
    "import seaborn as sns\n",
    "%matplotlib inline\n",
    "\n",
    "from sklearn.model_selection import train_test_split\n",
    "from sklearn.preprocessing import LabelEncoder\n",
    "from sklearn.tree import DecisionTreeClassifier as DT\n",
    "from lightgbm import LGBMClassifier as LGBM\n",
    "from sklearn.model_selection import GridSearchCV\n",
    "\n",
    "sns.set()"
   ]
  },
  {
   "cell_type": "code",
   "execution_count": null,
   "metadata": {},
   "outputs": [],
   "source": [
    "train_data = pd.read_csv('C:\\\\Users\\\\busin\\\\My_Products\\\\自動車の評価\\\\train.tsv', sep='\\t')\n",
    "test_data = pd.read_csv('C:\\\\Users\\\\busin\\\\My_Products\\\\自動車の評価\\\\test.tsv', sep='\\t')\n",
    "submit = pd.read_csv('C:\\\\Users\\\\busin\\\\My_Products\\\\自動車の評価\\\\sample_submit.csv',  header=None)"
   ]
  },
  {
   "cell_type": "code",
   "execution_count": null,
   "metadata": {},
   "outputs": [],
   "source": [
    "label = LabelEncoder()\n",
    "train_data['class'] = label.fit_transform(train_data['class'])\n",
    "train_data"
   ]
  },
  {
   "cell_type": "code",
   "execution_count": null,
   "metadata": {},
   "outputs": [],
   "source": [
    "test_data['class'] = 'test'\n",
    "test_data"
   ]
  },
  {
   "cell_type": "code",
   "execution_count": null,
   "metadata": {},
   "outputs": [],
   "source": [
    "merged_data = pd.concat([train_data, test_data], axis=0).reset_index(drop=True)\n",
    "merged_data"
   ]
  },
  {
   "cell_type": "code",
   "execution_count": null,
   "metadata": {},
   "outputs": [],
   "source": [
    "merged_data_dummied = pd.get_dummies(merged_data.drop('class', axis=1))\n",
    "merged_data_dummied['class'] = merged_data['class']\n",
    "merged_data_dummied"
   ]
  },
  {
   "cell_type": "code",
   "execution_count": null,
   "metadata": {},
   "outputs": [],
   "source": [
    "X_train = merged_data_dummied[merged_data_dummied[\"class\"] != 'test'].drop(['class','id'], axis=1)\n",
    "y_train = merged_data_dummied[merged_data_dummied[\"class\"] != 'test']['class'].astype(int)\n",
    "X_test = merged_data_dummied[merged_data_dummied['class'] == 'test'].drop(['id','class'], axis=1)"
   ]
  },
  {
   "cell_type": "code",
   "execution_count": null,
   "metadata": {},
   "outputs": [],
   "source": [
    "dt = DT(max_depth=10, min_samples_leaf=5, min_samples_split=0.01 )\n",
    "lgbm = LGBM(objective=\"binary\", learning_rate= 0.01, num_leaves=35, n_estimators=100, max_depth=10)"
   ]
  },
  {
   "cell_type": "code",
   "execution_count": null,
   "metadata": {},
   "outputs": [],
   "source": [
    "def dt_params():\n",
    "  ret = {\n",
    "        'max_depth': [1, 5, 10, 50, 100],\n",
    "        'min_samples_leaf': [1, 5, 10, 50, 100],\n",
    "        'min_samples_split': [0.01, 0.02, 0.03, 0.04, 0.05, 0.1]\n",
    "  }\n",
    "  return ret\n",
    "\n",
    "def lgbm_params():\n",
    "  ret = {\n",
    "        \"objective\":[\"binary\"],\n",
    "        \"learning_rate\": [0.01, 0.02, 0.03, 0.04, 0.05, 0.06, 0.07, 0.08, 0.09, 0,1],\n",
    "        \"num_leaves\": [31, 41, 51, 61, 100],\n",
    "        \"n_estimators\":[10, 50, 100],\n",
    "        \"max_depth\":[1, 2, 5, 10, 20, 50]\n",
    "  }\n",
    "  return ret\n",
    "\n",
    "estimator = LGBM()\n",
    "model_params = lgbm_params()\n",
    "\n",
    "gcv = GridSearchCV(estimator, model_params, cv=5, n_jobs=2)\n",
    "gcv.fit(X_train, y_train)"
   ]
  },
  {
   "cell_type": "code",
   "execution_count": null,
   "metadata": {},
   "outputs": [],
   "source": [
    "gcv.best_params_"
   ]
  },
  {
   "cell_type": "code",
   "execution_count": null,
   "metadata": {},
   "outputs": [],
   "source": [
    "best = gcv.best_estimator_\n",
    "y_pred = best.predict(X_test)"
   ]
  },
  {
   "cell_type": "code",
   "execution_count": null,
   "metadata": {},
   "outputs": [],
   "source": [
    "y_pred = label.inverse_transform(y_pred)\n",
    "submit[1] = y_pred\n",
    "submit.to_csv('first_submit.csv', header=None, index=False)"
   ]
  },
  {
   "cell_type": "code",
   "execution_count": null,
   "metadata": {},
   "outputs": [],
   "source": []
  }
 ],
 "metadata": {
  "kernelspec": {
   "display_name": "Python 3.9.13 64-bit (windows store)",
   "language": "python",
   "name": "python3"
  },
  "language_info": {
   "codemirror_mode": {
    "name": "ipython",
    "version": 3
   },
   "file_extension": ".py",
   "mimetype": "text/x-python",
   "name": "python",
   "nbconvert_exporter": "python",
   "pygments_lexer": "ipython3",
   "version": "3.9.13"
  },
  "orig_nbformat": 4,
  "vscode": {
   "interpreter": {
    "hash": "500f7d6661fd37d3d9e85f716467b81445775976705af901952210a875c76a46"
   }
  }
 },
 "nbformat": 4,
 "nbformat_minor": 2
}
