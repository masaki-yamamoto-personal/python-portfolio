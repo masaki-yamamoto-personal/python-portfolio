{
 "cells": [
  {
   "cell_type": "markdown",
   "metadata": {},
   "source": [
    "# 健診データによる肝疾患判定\n",
    "\n",
    "##### 健康診断（血液検査）のデータを使って、肝疾患の有無を判定するモデルを構築。\n",
    "\n",
    "- データ概要\n",
    "- 課題種別：分類\n",
    "- データ種別：多変量\n",
    "- 学習データサンプル数：891\n",
    "- 説明変数の数：10\n",
    "- 欠損値：有り"
   ]
  },
  {
   "cell_type": "code",
   "execution_count": 1,
   "metadata": {},
   "outputs": [],
   "source": [
    "import matplotlib.pyplot as plt\n",
    "import numpy as np\n",
    "import pandas as pd\n",
    "\n",
    "\n",
    "from sklearn.model_selection import train_test_split\n",
    "from sklearn.preprocessing import MinMaxScaler\n",
    "from sklearn.metrics import classification_report\n",
    "from sklearn.preprocessing import LabelEncoder\n",
    "from sklearn.metrics import accuracy_score\n",
    "\n",
    "import lightgbm as lgb"
   ]
  },
  {
   "cell_type": "code",
   "execution_count": 2,
   "metadata": {},
   "outputs": [],
   "source": [
    "train = pd.read_csv('train.csv')\n",
    "test = pd.read_csv('test.csv')\n",
    "submit = pd.read_csv('sample_submit.csv', header=None)"
   ]
  },
  {
   "cell_type": "code",
   "execution_count": 3,
   "metadata": {},
   "outputs": [],
   "source": [
    "train = pd.get_dummies(train)\n",
    "test = pd.get_dummies(test)\n"
   ]
  },
  {
   "cell_type": "code",
   "execution_count": 4,
   "metadata": {},
   "outputs": [
    {
     "data": {
      "text/plain": [
       "id               0\n",
       "Age              0\n",
       "T_Bil            0\n",
       "D_Bil            0\n",
       "ALP              0\n",
       "ALT_GPT          0\n",
       "AST_GOT          0\n",
       "TP               0\n",
       "Alb              0\n",
       "AG_ratio         0\n",
       "disease          0\n",
       "Gender_Female    0\n",
       "Gender_Male      0\n",
       "dtype: int64"
      ]
     },
     "execution_count": 4,
     "metadata": {},
     "output_type": "execute_result"
    }
   ],
   "source": [
    "train = train.fillna(train['AG_ratio'].mean())\n",
    "train.isnull().sum()"
   ]
  },
  {
   "cell_type": "code",
   "execution_count": 5,
   "metadata": {},
   "outputs": [],
   "source": [
    "sc = MinMaxScaler()\n",
    "X_train = sc.fit_transform(train[['Age', 'T_Bil', 'D_Bil', 'ALP', 'ALT_GPT', 'AST_GOT', 'TP', 'Alb', 'AG_ratio', 'Gender_Female', 'Gender_Male']])\n",
    "test = sc.fit_transform(test[['Age', 'T_Bil', 'D_Bil', 'ALP', 'ALT_GPT', 'AST_GOT', 'TP', 'Alb', 'AG_ratio', 'Gender_Female', 'Gender_Male']])\n",
    "Y_train = train['disease']"
   ]
  },
  {
   "cell_type": "code",
   "execution_count": 6,
   "metadata": {},
   "outputs": [
    {
     "name": "stdout",
     "output_type": "stream",
     "text": [
      "(891, 11)\n",
      "(891,)\n"
     ]
    }
   ],
   "source": [
    "print(X_train.shape)\n",
    "print(Y_train.shape)"
   ]
  },
  {
   "cell_type": "code",
   "execution_count": 7,
   "metadata": {},
   "outputs": [],
   "source": [
    "X_train, X_test, Y_train, Y_test = train_test_split(X_train, Y_train, test_size=0.3, random_state=1)"
   ]
  },
  {
   "cell_type": "code",
   "execution_count": 29,
   "metadata": {},
   "outputs": [],
   "source": [
    "model = lgb.LGBMClassifier(boosting_type='goss', max_depth=10, random_state=0)"
   ]
  },
  {
   "cell_type": "code",
   "execution_count": 30,
   "metadata": {},
   "outputs": [
    {
     "name": "stdout",
     "output_type": "stream",
     "text": [
      "[1]\tvalid_0's binary_logloss: 0.652314\n",
      "Training until validation scores don't improve for 100 rounds\n",
      "[2]\tvalid_0's binary_logloss: 0.613836\n",
      "[3]\tvalid_0's binary_logloss: 0.58265\n",
      "[4]\tvalid_0's binary_logloss: 0.553831\n",
      "[5]\tvalid_0's binary_logloss: 0.533418\n",
      "[6]\tvalid_0's binary_logloss: 0.512729\n",
      "[7]\tvalid_0's binary_logloss: 0.493213\n",
      "[8]\tvalid_0's binary_logloss: 0.478757\n",
      "[9]\tvalid_0's binary_logloss: 0.46604\n",
      "[10]\tvalid_0's binary_logloss: 0.451123\n",
      "[11]\tvalid_0's binary_logloss: 0.445293\n",
      "[12]\tvalid_0's binary_logloss: 0.439121\n",
      "[13]\tvalid_0's binary_logloss: 0.430958\n",
      "[14]\tvalid_0's binary_logloss: 0.428249\n",
      "[15]\tvalid_0's binary_logloss: 0.426883\n",
      "[16]\tvalid_0's binary_logloss: 0.425719\n",
      "[17]\tvalid_0's binary_logloss: 0.423844\n",
      "[18]\tvalid_0's binary_logloss: 0.419396\n",
      "[19]\tvalid_0's binary_logloss: 0.418157\n",
      "[20]\tvalid_0's binary_logloss: 0.413765\n",
      "[21]\tvalid_0's binary_logloss: 0.410778\n",
      "[22]\tvalid_0's binary_logloss: 0.412603\n",
      "[23]\tvalid_0's binary_logloss: 0.409278\n",
      "[24]\tvalid_0's binary_logloss: 0.406968\n",
      "[25]\tvalid_0's binary_logloss: 0.404968\n",
      "[26]\tvalid_0's binary_logloss: 0.403763\n",
      "[27]\tvalid_0's binary_logloss: 0.400917\n",
      "[28]\tvalid_0's binary_logloss: 0.399022\n",
      "[29]\tvalid_0's binary_logloss: 0.397272\n",
      "[30]\tvalid_0's binary_logloss: 0.394288\n",
      "[31]\tvalid_0's binary_logloss: 0.393016\n",
      "[32]\tvalid_0's binary_logloss: 0.389519\n",
      "[33]\tvalid_0's binary_logloss: 0.387684\n",
      "[34]\tvalid_0's binary_logloss: 0.386489\n",
      "[35]\tvalid_0's binary_logloss: 0.383444\n",
      "[36]\tvalid_0's binary_logloss: 0.382299\n",
      "[37]\tvalid_0's binary_logloss: 0.3813\n",
      "[38]\tvalid_0's binary_logloss: 0.378433\n",
      "[39]\tvalid_0's binary_logloss: 0.376197\n",
      "[40]\tvalid_0's binary_logloss: 0.372172\n",
      "[41]\tvalid_0's binary_logloss: 0.370224\n",
      "[42]\tvalid_0's binary_logloss: 0.370209\n",
      "[43]\tvalid_0's binary_logloss: 0.368658\n",
      "[44]\tvalid_0's binary_logloss: 0.36656\n",
      "[45]\tvalid_0's binary_logloss: 0.368328\n",
      "[46]\tvalid_0's binary_logloss: 0.367194\n",
      "[47]\tvalid_0's binary_logloss: 0.370144\n",
      "[48]\tvalid_0's binary_logloss: 0.367685\n",
      "[49]\tvalid_0's binary_logloss: 0.367783\n",
      "[50]\tvalid_0's binary_logloss: 0.364644\n",
      "[51]\tvalid_0's binary_logloss: 0.365841\n",
      "[52]\tvalid_0's binary_logloss: 0.366843\n",
      "[53]\tvalid_0's binary_logloss: 0.36508\n",
      "[54]\tvalid_0's binary_logloss: 0.364416\n",
      "[55]\tvalid_0's binary_logloss: 0.364457\n",
      "[56]\tvalid_0's binary_logloss: 0.364756\n",
      "[57]\tvalid_0's binary_logloss: 0.362513\n",
      "[58]\tvalid_0's binary_logloss: 0.359607\n",
      "[59]\tvalid_0's binary_logloss: 0.36099\n",
      "[60]\tvalid_0's binary_logloss: 0.362107\n",
      "[61]\tvalid_0's binary_logloss: 0.363485\n",
      "[62]\tvalid_0's binary_logloss: 0.359723\n",
      "[63]\tvalid_0's binary_logloss: 0.357301\n",
      "[64]\tvalid_0's binary_logloss: 0.357481\n",
      "[65]\tvalid_0's binary_logloss: 0.356887\n",
      "[66]\tvalid_0's binary_logloss: 0.354927\n",
      "[67]\tvalid_0's binary_logloss: 0.351878\n",
      "[68]\tvalid_0's binary_logloss: 0.352473\n",
      "[69]\tvalid_0's binary_logloss: 0.35066\n",
      "[70]\tvalid_0's binary_logloss: 0.350406\n",
      "[71]\tvalid_0's binary_logloss: 0.347633\n",
      "[72]\tvalid_0's binary_logloss: 0.348794\n",
      "[73]\tvalid_0's binary_logloss: 0.349635\n",
      "[74]\tvalid_0's binary_logloss: 0.347716\n",
      "[75]\tvalid_0's binary_logloss: 0.344972\n",
      "[76]\tvalid_0's binary_logloss: 0.345989\n",
      "[77]\tvalid_0's binary_logloss: 0.344371\n",
      "[78]\tvalid_0's binary_logloss: 0.343146\n",
      "[79]\tvalid_0's binary_logloss: 0.341919\n",
      "[80]\tvalid_0's binary_logloss: 0.341725\n",
      "[81]\tvalid_0's binary_logloss: 0.342914\n",
      "[82]\tvalid_0's binary_logloss: 0.344225\n",
      "[83]\tvalid_0's binary_logloss: 0.34386\n",
      "[84]\tvalid_0's binary_logloss: 0.340452\n",
      "[85]\tvalid_0's binary_logloss: 0.340203\n",
      "[86]\tvalid_0's binary_logloss: 0.337589\n",
      "[87]\tvalid_0's binary_logloss: 0.337005\n",
      "[88]\tvalid_0's binary_logloss: 0.33626\n",
      "[89]\tvalid_0's binary_logloss: 0.334189\n",
      "[90]\tvalid_0's binary_logloss: 0.333611\n",
      "[91]\tvalid_0's binary_logloss: 0.332297\n",
      "[92]\tvalid_0's binary_logloss: 0.332357\n",
      "[93]\tvalid_0's binary_logloss: 0.333671\n",
      "[94]\tvalid_0's binary_logloss: 0.33407\n",
      "[95]\tvalid_0's binary_logloss: 0.334891\n",
      "[96]\tvalid_0's binary_logloss: 0.334607\n",
      "[97]\tvalid_0's binary_logloss: 0.335744\n",
      "[98]\tvalid_0's binary_logloss: 0.335399\n",
      "[99]\tvalid_0's binary_logloss: 0.334564\n",
      "[100]\tvalid_0's binary_logloss: 0.334196\n",
      "Did not meet early stopping. Best iteration is:\n",
      "[91]\tvalid_0's binary_logloss: 0.332297\n"
     ]
    },
    {
     "data": {
      "text/plain": [
       "LGBMClassifier(boosting_type='goss', max_depth=10, random_state=0)"
      ]
     },
     "execution_count": 30,
     "metadata": {},
     "output_type": "execute_result"
    }
   ],
   "source": [
    "eval_set = [(X_test, Y_test)]\n",
    "callbacks = []\n",
    "callbacks.append(lgb.early_stopping(stopping_rounds=100))\n",
    "callbacks.append(lgb.log_evaluation())\n",
    "model.fit(X_train, Y_train, eval_set=eval_set, callbacks=callbacks)"
   ]
  },
  {
   "cell_type": "code",
   "execution_count": 31,
   "metadata": {},
   "outputs": [],
   "source": [
    "Y_pred = model.predict(test)\n",
    "submit[1] = Y_pred\n",
    "submit.to_csv('submit_lightgbm.csv', index=None, header=None)"
   ]
  },
  {
   "cell_type": "code",
   "execution_count": 32,
   "metadata": {},
   "outputs": [
    {
     "data": {
      "text/plain": [
       "0.8544776119402985"
      ]
     },
     "execution_count": 32,
     "metadata": {},
     "output_type": "execute_result"
    }
   ],
   "source": [
    "Y_pred = model.predict(X_test)\n",
    "accuracy_score(Y_test, Y_pred)"
   ]
  },
  {
   "cell_type": "code",
   "execution_count": null,
   "metadata": {},
   "outputs": [],
   "source": []
  }
 ],
 "metadata": {
  "interpreter": {
   "hash": "500f7d6661fd37d3d9e85f716467b81445775976705af901952210a875c76a46"
  },
  "kernelspec": {
   "display_name": "Python 3.9.13 64-bit (windows store)",
   "language": "python",
   "name": "python3"
  },
  "language_info": {
   "codemirror_mode": {
    "name": "ipython",
    "version": 3
   },
   "file_extension": ".py",
   "mimetype": "text/x-python",
   "name": "python",
   "nbconvert_exporter": "python",
   "pygments_lexer": "ipython3",
   "version": "3.9.13"
  },
  "orig_nbformat": 4
 },
 "nbformat": 4,
 "nbformat_minor": 2
}
